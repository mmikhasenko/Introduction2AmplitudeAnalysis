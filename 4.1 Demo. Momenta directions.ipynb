{
 "cells": [
  {
   "cell_type": "code",
   "execution_count": null,
   "metadata": {},
   "outputs": [],
   "source": [
    "import Pkg\n",
    "Pkg.activate(@__DIR__)\n",
    "Pkg.instantiate()"
   ]
  },
  {
   "cell_type": "code",
   "execution_count": null,
   "metadata": {},
   "outputs": [],
   "source": [
    "using WebIO\n",
    "WebIO.install_jupyter_nbextension()"
   ]
  },
  {
   "cell_type": "code",
   "execution_count": null,
   "metadata": {},
   "outputs": [],
   "source": [
    "using Interact\n",
    "using Parameters\n",
    "using Plots\n",
    "theme(:wong)"
   ]
  },
  {
   "cell_type": "code",
   "execution_count": null,
   "metadata": {},
   "outputs": [],
   "source": [
    "@with_kw struct ThreeBodySystem\n",
    "    m0::Float64\n",
    "    m1::Float64\n",
    "    m2::Float64\n",
    "    m3::Float64\n",
    "end\n",
    "@with_kw struct Invariants\n",
    "    σ1::Float64\n",
    "    σ2::Float64\n",
    "    σ3::Float64\n",
    "end"
   ]
  },
  {
   "cell_type": "code",
   "execution_count": null,
   "metadata": {},
   "outputs": [],
   "source": [
    "sumsq(tbs::ThreeBodySystem) = tbs.m0^2+tbs.m1^2+tbs.m2^2+tbs.m3^2\n",
    "function Invariants(tbs::ThreeBodySystem;σ1=-1.0,σ2=-1.0,σ3=-1.0)\n",
    "    sign(σ1)+sign(σ2)+sign(σ3)!=1 && error(\"the method works with TWO invariants given\")\n",
    "    σ3 < 0 && return Invariants(σ1=σ1,σ2=σ2,σ3=sumsq(tbs)-σ1-σ2)\n",
    "    σ1 < 0 && return Invariants(σ2=σ2,σ3=σ3,σ1=sumsq(tbs)-σ2-σ3)\n",
    "    σ2 < 0 && return Invariants(σ3=σ3,σ1=σ1,σ2=sumsq(tbs)-σ3-σ1)\n",
    "end"
   ]
  },
  {
   "cell_type": "code",
   "execution_count": null,
   "metadata": {},
   "outputs": [],
   "source": [
    "λ(x,y,z) = x^2+y^2+z^2-2x*y-2y*z-2z*x\n",
    "# \n",
    "p1mod(σs::Invariants,tbs::ThreeBodySystem) = sqrt(λ(tbs.m0^2,tbs.m1^2,σs.σ1))/(2tbs.m0)\n",
    "p2mod(σs::Invariants,tbs::ThreeBodySystem) = sqrt(λ(tbs.m0^2,tbs.m2^2,σs.σ2))/(2tbs.m0)\n",
    "p3mod(σs::Invariants,tbs::ThreeBodySystem) = sqrt(λ(tbs.m0^2,tbs.m3^2,σs.σ3))/(2tbs.m0)\n",
    "#\n",
    "function cosθh12(σs::Invariants,tbs::ThreeBodySystem)\n",
    "    @unpack σ1,σ2,σ3 = σs\n",
    "    @unpack m0,m1,m2,m3 = tbs\n",
    "    return (2m0^2*(m1^2+m2^2-σ3)+(m0^2+m1^2-σ1)*(m0^2+m2^2-σ2)) / sqrt(λ(m0^2,m1^2,σ1)*λ(m0^2,m2^2,σ2))\n",
    "end\n",
    "function cosθh23(σs::Invariants,tbs::ThreeBodySystem)\n",
    "    @unpack σ1,σ2,σ3 = σs\n",
    "    @unpack m0,m1,m2,m3 = tbs\n",
    "    return (2m0^2*(m2^2+m3^2-σ1)+(m0^2+m2^2-σ2)*(m0^2+m3^2-σ3)) / sqrt(λ(m0^2,m2^2,σ2)*λ(m0^2,m3^2,σ3))\n",
    "end\n",
    "function cosθh31(σs::Invariants,tbs::ThreeBodySystem) =\n",
    "    @unpack σ1,σ2,σ3 = σs\n",
    "    @unpack m0,m1,m2,m3 = tbs\n",
    "    return (2m0^2*(m3^2+m1^2-σ2)+(m0^2+m3^2-σ3)*(m0^2+m1^2-σ1)) / sqrt(λ(m0^2,m3^2,σ3)*λ(m0^2,m1^2,σ1))\n",
    "end\n",
    "#\n",
    "Kibble(σs::Invariants,tbs::ThreeBodySystem) = λ(λ(tbs.m0^2,tbs.m1^2,σs.σ1),\n",
    "                                                λ(tbs.m0^2,tbs.m2^2,σs.σ2),\n",
    "                                                λ(tbs.m0^2,tbs.m3^2,σs.σ3))\n",
    "#\n",
    "σ2of1(z, σ1; tbs::ThreeBodySystem) = tbs.m3^2 + tbs.m1^2 +\n",
    "    (σ1+tbs.m3^2-tbs.m2^2)*(tbs.m0^2-tbs.m1^2-σ1)/(2σ1) -\n",
    "    sqrt(λ(tbs.m0^2,tbs.m1^2,σ1)*λ(tbs.m2^2,tbs.m3^2,σ1))/(2σ1)*z"
   ]
  },
  {
   "cell_type": "code",
   "execution_count": null,
   "metadata": {},
   "outputs": [],
   "source": [
    "tbs = ThreeBodySystem(m0=1.1, m1=0.3, m2=0.3, m3=0.3)\n",
    "@manipulate for σ1 in range((tbs.m2+tbs.m3)^2, (tbs.m0-tbs.m1)^2, length=500),\n",
    "                σ2 in range((tbs.m3+tbs.m1)^2, (tbs.m0-tbs.m2)^2, length=500)\n",
    "    σs = Invariants(tbs,σ1=σ1,σ2=σ2)\n",
    "    (σs,α) = Kibble(σs,tbs) < 0 ? (σs,1.0) : (Invariants(tbs,σ1=0.7^2,σ2=0.7^2), 0.0)\n",
    "    #\n",
    "    plot(layout=grid(1,2), size=(900,350))\n",
    "    plot!(sp=2, xaxis=false, yaxis=false, aspect_ratio=1)\n",
    "    #\n",
    "    _p1mod = p1mod(σs,tbs)\n",
    "    plot!(sp=2, [0,-_p1mod], [0, 0], lab=\"\", arrow=true, lw=2, α=α)\n",
    "    #\n",
    "    _p2mod = p2mod(σs,tbs)\n",
    "    _cosθh12 = cosθh12(σs,tbs)\n",
    "    _sinθh12 = sqrt(1-_cosθh12^2)\n",
    "    plot!(sp=2, [0,-_p2mod*_cosθh12], [0,_p2mod*_sinθh12], lab=\"\", arrow=true, lw=2, α=α, seriescolor=2)\n",
    "    plot!(sp=2, [0,-_p2mod*_cosθh12].-_p1mod, [0,_p2mod*_sinθh12], lab=\"\", arrow=true, lw=0.5, ls=:dash, α=α, seriescolor=2)\n",
    "    #\n",
    "    _p3mod = p3mod(σs,tbs)\n",
    "    _cosθh31 = cosθh31(σs,tbs)\n",
    "    _sinθh31 = sqrt(1-_cosθh31^2)\n",
    "    plot!(sp=2, [0,-_p3mod*_cosθh31], [0,-_p3mod*_sinθh31], lab=\"\", arrow=true, lw=2, α=α, seriescolor=3)\n",
    "    plot!(sp=2, [0,-_p3mod*_cosθh31].-_p1mod .-_p2mod*_cosθh12,\n",
    "        [0,-_p3mod*_sinθh31].+_p2mod*_sinθh12, lab=\"\", arrow=true, lw=0.5, ls=:dash, α=α, seriescolor=3)\n",
    "    #\n",
    "    scatter!(sp=1, [σ1], [σ2], lab=\"\", ms=10,\n",
    "            xlim=((tbs.m2+tbs.m3)^2, (tbs.m0-tbs.m1)^2),\n",
    "            ylim=((tbs.m3+tbs.m1)^2, (tbs.m0-tbs.m2)^2))\n",
    "    #\n",
    "    σ1v = range((tbs.m2+tbs.m3)^2, (tbs.m0-tbs.m1)^2, length=100)\n",
    "    σ2v⁺ = σ2of1.(1,σ1v; tbs=tbs)\n",
    "    σ2v⁻ = σ2of1.(-1,σ1v; tbs=tbs)\n",
    "    plot!(sp=1, σ1v, [σ2v⁺ σ2v⁻], lab=\"\", l=(:gray))\n",
    "end"
   ]
  },
  {
   "cell_type": "code",
   "execution_count": null,
   "metadata": {},
   "outputs": [],
   "source": []
  },
  {
   "cell_type": "code",
   "execution_count": null,
   "metadata": {},
   "outputs": [],
   "source": []
  },
  {
   "cell_type": "code",
   "execution_count": null,
   "metadata": {},
   "outputs": [],
   "source": []
  }
 ],
 "metadata": {
  "@webio": {
   "lastCommId": null,
   "lastKernelId": null
  },
  "kernelspec": {
   "display_name": "Julia 1.5.0",
   "language": "julia",
   "name": "julia-1.5"
  },
  "language_info": {
   "file_extension": ".jl",
   "mimetype": "application/julia",
   "name": "julia",
   "version": "1.5.0"
  }
 },
 "nbformat": 4,
 "nbformat_minor": 2
}
