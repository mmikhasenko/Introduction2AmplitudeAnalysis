{
 "cells": [
  {
   "cell_type": "code",
   "execution_count": null,
   "metadata": {},
   "outputs": [],
   "source": [
    "import Pkg\n",
    "Pkg.activate(@__DIR__)\n",
    "Pkg.instantiate()"
   ]
  },
  {
   "cell_type": "code",
   "execution_count": null,
   "metadata": {},
   "outputs": [],
   "source": [
    "using Parameters\n",
    "using Plots\n",
    "using DelimitedFiles\n",
    "using TypedTables\n",
    "using LinearAlgebra\n",
    "theme(:wong)"
   ]
  },
  {
   "cell_type": "markdown",
   "metadata": {},
   "source": [
    "# Kinematics of three-body decay"
   ]
  },
  {
   "cell_type": "markdown",
   "metadata": {},
   "source": [
    "1. Number degrees of freedom\n",
    "2. Phase space: 5 d.o.f vs 2 d.o.f\n",
    "3. Mandelstam invariants: ranges of $m_{ij}^2$\n",
    "4. Parametrization ($m_{12}$, $\\cos\\theta$) and ($m_{12}^2$, $m_{23}^2$)\n",
    "5. Shape of the dalitz plot\n",
    "6. Angles $\\hat{\\theta}_{ij}$ and $\\theta_{ij}$"
   ]
  },
  {
   "cell_type": "markdown",
   "metadata": {},
   "source": [
    "## 0. Intro"
   ]
  },
  {
   "cell_type": "code",
   "execution_count": null,
   "metadata": {},
   "outputs": [],
   "source": [
    "@with_kw struct ThreeBodySystem\n",
    "    m0::Float64\n",
    "    m1::Float64\n",
    "    m2::Float64\n",
    "    m3::Float64\n",
    "    ThreeBodySystem(m0,m1,m2,m3) = m0<m1+m2+m3 ? error(\"m₀ should be bigger than m₁+m₂+m₃\") : new(m0,m1,m2,m3)\n",
    "end"
   ]
  },
  {
   "cell_type": "code",
   "execution_count": null,
   "metadata": {},
   "outputs": [],
   "source": [
    "tbs = ThreeBodySystem(m1=1,m2=1,m3=1, m0=3.3)"
   ]
  },
  {
   "cell_type": "markdown",
   "metadata": {},
   "source": [
    "## 1. Number of degrees of freedom in the $0\\to 1,2,3$ reaction\n",
    "\n",
    "It is a four-legs process, there was some formula,...\n",
    "$$\n",
    "\\text{#d.o.f.} = 3n-10?\n",
    "$$\n",
    " - So, is it $2$?\n",
    " - Are their related to the **Mandelstam** invatiant **variables** I remenber hearing about?\n",
    " \n",
    " \n",
    "Well, indeed, the formular $3n-10$ comes from the counting\n",
    "  * [+3] d.o.f. for every particle\n",
    "  * [-4] energy-momentum constraints\n",
    "  * [-3] rotations of the whole system\n",
    "  * [-3] boosts: we can bring of the particle to the rest frame, e.g. $\\vec p_0 = \\vec 0$."
   ]
  },
  {
   "cell_type": "markdown",
   "metadata": {},
   "source": [
    "## 2. Phase space\n",
    "The three-body phase space reads\n",
    "$$\n",
    "\\begin{align}\n",
    "d\\Phi_3 = \\prod_{i=1}^3 \\left(\\frac{d^3 p_i}{(2\\pi)^3 2E_i}\\right) (2\\pi)^4 \\delta^4(p_0-p_1-p_2-p_3)\n",
    "\\end{align}\n",
    "$$\n",
    "Every particle has three degrees of freedom (four component of four-vector - the mass constraint).\n",
    "The energy-momentum concervation law removes 4 constrains\n",
    "$$\n",
    "\\text{# integrals} = 3\\cdot 3-4 = 5\n",
    "$$\n",
    "$\\Rightarrow$ when you deal with the three body system, there are 5 independent variables **at maximum**.\n",
    "\n",
    "Once there are no *external reference* (like production plate, or polarization direction),\n",
    "the matrix element cannot depend on the angles of the rotation of the whole system.\n",
    " - *think about a fixed configuration of the momenta of the four particles $\\vec p_0$, $\\vec p_1$, $\\vec p_2$, and $\\vec p_3$. It is a digid body. It is orientation in the space can be described by the three Euler angles. These are the angles that the matrix element does not depend upon.*\n"
   ]
  },
  {
   "cell_type": "markdown",
   "metadata": {},
   "source": [
    "## 3. What are these 2 d.o.f. or 5 d.o.f.\n",
    "that completely describe the three-body phase space\n",
    "$$\n",
    "\\begin{align}\n",
    "d \\Phi_3 &= \\frac{d m_{12}^2}{2\\pi}d\\Phi_{2}(0\\to X_{12},3) d\\Phi_2(X_{12}\\to 1,2)\\\\\n",
    " &= \\frac{1}{2\\pi(8\\pi)^2}\\,\\,\\frac{d\\phi_3 d\\cos\\theta_3 d\\phi_{12}}{8\\pi^2}\\,\\,\n",
    "%  \\rho(m_0^2,m_{12}^2,m_3^2)\\rho(m_{12}^2,m_1^2,m_2^2)\n",
    "\\fbox{$\n",
    "  \\frac{\\lambda^{1/2}(m_0^2,m_{12}^2,m_3^2)}{m_0^2}\n",
    " \\frac{\\lambda^{1/2}(m_{12}^2,m_1^2,m_2^2)}{m_{12}^2}\n",
    " \\frac{d \\cos\\theta_{12}}{2} d m_{12}^2\n",
    " $}\\\\\n",
    " &= \\frac{1}{2\\pi(8\\pi)^2 m_0^2}\\,\\,\\frac{d\\alpha d\\cos\\beta d\\gamma}{8\\pi^2}\\,\\,\n",
    " \\fbox{$d m_{12}^2 d m_{23}^2$}\n",
    "\\end{align}\n",
    "$$\n",
    "here are $\\theta_{12}$, $\\phi_{12}$ are the sperical angles for $X_{12}\\to 1,2$ \"transition\" (no dynamics, purely mathematical composition)."
   ]
  },
  {
   "cell_type": "code",
   "execution_count": null,
   "metadata": {},
   "outputs": [],
   "source": [
    "λ(x,y,z) = x^2+y^2+z^2-2x*y-2y*z-2z*x"
   ]
  },
  {
   "cell_type": "markdown",
   "metadata": {},
   "source": [
    "***Exercise***: plot the function $\\sqrt{\\lambda\\lambda}$, find the limits of $m_{12}$"
   ]
  },
  {
   "cell_type": "markdown",
   "metadata": {},
   "source": [
    "## 4. Relation between $\\cos\\theta$ and $\\sigma_k\\equiv m_{ij}^2$"
   ]
  },
  {
   "cell_type": "markdown",
   "metadata": {},
   "source": [
    "Convenient names for the combination of invariant masses\n",
    "$$\n",
    "\\begin{align}\n",
    "\\sigma_1 &\\equiv m_{23}^2 = (p_2+p_3)^2 &\n",
    "\\sigma_2 &\\equiv m_{31}^2 = (p_3+p_1)^2 &\n",
    "\\sigma_3 &\\equiv m_{12}^2 = (p_1+p_2)^2\n",
    "\\end{align}\n",
    "$$\n",
    "only two are independent: \n",
    "$$\n",
    "\\sigma_1+\\sigma_2+\\sigma_3 = m_0^2+m_1^2+m_2^2+m_3^2\n",
    "$$\n",
    "The different sets of independent variables:\n",
    " * $(\\sigma_1,\\sigma_2)$ OR $(\\sigma_2,\\sigma_3)$ or $(\\sigma_3,\\sigma_1)$\n",
    " * $(\\sigma_1,\\cos\\theta_{23})$, or ...\n",
    " \n",
    "Reminder: the $\\theta_{12}$ is the polar angle,\n",
    " - the angle of particle 1, in the rest frame frame of (12)\n",
    " - the angle of $\\vec p_1$ with respect to z: $\\vec z = -\\vec{p}_3$."
   ]
  },
  {
   "cell_type": "code",
   "execution_count": null,
   "metadata": {},
   "outputs": [],
   "source": [
    "@with_kw struct Invariants\n",
    "    σ1::Float64\n",
    "    σ2::Float64\n",
    "    σ3::Float64\n",
    "end"
   ]
  },
  {
   "cell_type": "code",
   "execution_count": null,
   "metadata": {},
   "outputs": [],
   "source": [
    "sumsq(tbs::ThreeBodySystem) = tbs.m0^2+tbs.m1^2+tbs.m2^2+tbs.m3^2\n",
    "function Invariants(tbs::ThreeBodySystem;σ1=-1.0,σ2=-1.0,σ3=-1.0)\n",
    "    sign(σ1)+sign(σ2)+sign(σ3)!=1 && error(\"the method works with TWO invariants given\")\n",
    "    σ3 < 0 && return Invariants(;σ1,σ2,σ3=sumsq(tbs)-σ1-σ2)\n",
    "    σ1 < 0 && return Invariants(;σ2,σ3,σ1=sumsq(tbs)-σ2-σ3)\n",
    "    σ2 < 0 && return Invariants(;σ3,σ1,σ2=sumsq(tbs)-σ3-σ1)\n",
    "end"
   ]
  },
  {
   "cell_type": "code",
   "execution_count": null,
   "metadata": {},
   "outputs": [],
   "source": [
    "function σ2of1(cosθ23, σ1; tbs::ThreeBodySystem)\n",
    "    @unpack m0, m1, m2, m3 = tbs\n",
    "    return m3^2 + m1^2 + (σ1+m3^2-m2^2)*(m0^2-m1^2-σ1)/(2σ1) -\n",
    "        sqrt(λ(m0^2,m1^2,σ1)*λ(m2^2,m3^2,σ1))/(2σ1)*cosθ23\n",
    "end\n",
    "# finish\n",
    "# \n",
    "# function cosθ23(σs::Invariants, tbs::ThreeBodySystem)\n",
    "# end"
   ]
  },
  {
   "cell_type": "markdown",
   "metadata": {},
   "source": [
    "### 5. Shape of the Dalitz Plot"
   ]
  },
  {
   "cell_type": "code",
   "execution_count": null,
   "metadata": {},
   "outputs": [],
   "source": [
    "Kibble(σs::Invariants,tbs::ThreeBodySystem) = λ(λ(tbs.m0^2,tbs.m1^2,σs.σ1),\n",
    "                                                λ(tbs.m0^2,tbs.m2^2,σs.σ2),\n",
    "                                                λ(tbs.m0^2,tbs.m3^2,σs.σ3))"
   ]
  },
  {
   "cell_type": "code",
   "execution_count": null,
   "metadata": {},
   "outputs": [],
   "source": [
    "let\n",
    "    @unpack m0, m1, m2, m3 = tbs\n",
    "    σ1v = range((m2+m3)^2, (m0-m1)^2, length=50)\n",
    "    σ3v = range((m1+m2)^2, (m0-m3)^2, length=50)\n",
    "    calv = [(;σ1,σ3) for σ3 in σ3v, σ1 in σ1v]\n",
    "    in_ph_region = filter(v->Kibble(Invariants(tbs;v...), tbs) < 0, calv)\n",
    "    scatter(Tuple.(in_ph_region), xlab=\"σ₁\", ylab=\"σ₃\")\n",
    "end"
   ]
  },
  {
   "cell_type": "markdown",
   "metadata": {},
   "source": [
    "***Exercise***: the exact shape of the dalits\n",
    " - plot the border line (Hint: $\\cos\\theta=\\pm 1$)\n",
    " - fill in with the color `plot(x, y1, fill_between=y2)`\n",
    " - change the masses, find the condition for the two shapes\n",
    "  * an ellipce\n",
    "  * a triangle\n",
    "  * a thin line"
   ]
  },
  {
   "cell_type": "markdown",
   "metadata": {},
   "source": [
    "***Final Exercise***: the data for the decay of $B^+$\n",
    " Find $m_1$, $m_2$, $m_3$, identify the reaction"
   ]
  },
  {
   "cell_type": "code",
   "execution_count": null,
   "metadata": {},
   "outputs": [],
   "source": [
    "const mBp = 5.27934;"
   ]
  },
  {
   "cell_type": "code",
   "execution_count": null,
   "metadata": {},
   "outputs": [],
   "source": [
    "# t = let\n",
    "#     M = readdlm(joinpath(\"data\", \"secret_dalitz_Bplus.txt\"))\n",
    "#     Table(σ1 = M[:,1], σ2 = M[:,2])\n",
    "# end"
   ]
  },
  {
   "cell_type": "code",
   "execution_count": null,
   "metadata": {},
   "outputs": [],
   "source": [
    "# scatter(t.σ1, t.σ2)"
   ]
  },
  {
   "cell_type": "markdown",
   "metadata": {},
   "source": [
    "## 6. Other frames and other angles"
   ]
  }
 ],
 "metadata": {
  "@webio": {
   "lastCommId": null,
   "lastKernelId": null
  },
  "kernelspec": {
   "display_name": "Julia 1.5.0",
   "language": "julia",
   "name": "julia-1.5"
  },
  "language_info": {
   "file_extension": ".jl",
   "mimetype": "application/julia",
   "name": "julia",
   "version": "1.5.0"
  }
 },
 "nbformat": 4,
 "nbformat_minor": 2
}
